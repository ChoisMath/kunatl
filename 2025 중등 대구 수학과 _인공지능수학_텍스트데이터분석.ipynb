{
  "nbformat": 4,
  "nbformat_minor": 0,
  "metadata": {
    "colab": {
      "provenance": [],
      "collapsed_sections": [
        "S2iWkICwKLJZ",
        "gf9n4BsmtnSB",
        "lXx9gakh6Ugw",
        "mIDNggZI6bfN",
        "nDBCoZnbtPNn",
        "narmfE8nokKe"
      ],
      "authorship_tag": "ABX9TyOef8/450Ptz+nzdMoinWFY",
      "include_colab_link": true
    },
    "kernelspec": {
      "name": "python3",
      "display_name": "Python 3"
    },
    "language_info": {
      "name": "python"
    }
  },
  "cells": [
    {
      "cell_type": "markdown",
      "metadata": {
        "id": "view-in-github",
        "colab_type": "text"
      },
      "source": [
        "<a href=\"https://colab.research.google.com/github/ChoisMath/kunatl/blob/main/2025%20%EC%A4%91%EB%93%B1%20%EB%8C%80%EA%B5%AC%20%EC%88%98%ED%95%99%EA%B3%BC%20_%EC%9D%B8%EA%B3%B5%EC%A7%80%EB%8A%A5%EC%88%98%ED%95%99_%ED%85%8D%EC%8A%A4%ED%8A%B8%EB%8D%B0%EC%9D%B4%ED%84%B0%EB%B6%84%EC%84%9D.ipynb\" target=\"_parent\"><img src=\"https://colab.research.google.com/assets/colab-badge.svg\" alt=\"Open In Colab\"/></a>"
      ]
    },
    {
      "cell_type": "markdown",
      "metadata": {
        "id": "S2iWkICwKLJZ"
      },
      "source": [
        "# 0. 실습자료 기본설정하기"
      ]
    },
    {
      "cell_type": "code",
      "source": [
        "#@markdown ##한글 package / wordcloud upgrade\n",
        "#한글을 다루지 않을 경우 생략\n",
        "!apt-get update -qq\n",
        "!apt-get install fonts-nanum* -qq\n",
        "!pip install konlpy\n",
        "!pip install --upgrade wordcloud"
      ],
      "metadata": {
        "id": "lcvX6WicLwMS",
        "cellView": "form"
      },
      "execution_count": null,
      "outputs": []
    },
    {
      "cell_type": "code",
      "source": [
        "import pandas as pd\n",
        "import numpy as np\n",
        "from math import log\n",
        "from konlpy.tag import Okt\n",
        "import matplotlib.pyplot as plt\n",
        "okt=Okt()"
      ],
      "metadata": {
        "id": "Q0Z2LL8pMlQo"
      },
      "execution_count": null,
      "outputs": []
    },
    {
      "cell_type": "code",
      "source": [
        "#@markdown ##  StopWord 만들기\n",
        "\n",
        "import requests\n",
        "\n",
        "def load_stopwords_from_url(url):\n",
        "    response = requests.get(url)\n",
        "    stopwords = response.text.split('\\n')\n",
        "    stopwords = [word.strip() for word in stopwords if word.strip()]\n",
        "    return stopwords\n",
        "\n",
        "# stopwords-ko 저장소의 raw URL\n",
        "stopwords_url = 'https://raw.githubusercontent.com/stopwords-iso/stopwords-ko/master/stopwords-ko.txt'\n",
        "\n",
        "# 불용어 리스트 로드\n",
        "stopwords = load_stopwords_from_url(stopwords_url)\n",
        "stopwords = stopwords+['은','는','예요','어요','아요','았']"
      ],
      "metadata": {
        "id": "wfyoY3oAcF_K",
        "cellView": "form"
      },
      "execution_count": null,
      "outputs": []
    },
    {
      "cell_type": "markdown",
      "source": [
        "#실습1. 워드클라우드(Wordcloud) 만들기"
      ],
      "metadata": {
        "id": "gf9n4BsmtnSB"
      }
    },
    {
      "cell_type": "code",
      "source": [
        "text= '이 영화는 긴장감과 감동이 있는 영화예요.'\n",
        "token= #?????#"
      ],
      "metadata": {
        "id": "PLzx60MxNYCD"
      },
      "execution_count": null,
      "outputs": []
    },
    {
      "cell_type": "code",
      "source": [
        "stopwords_set = set(stopwords)\n",
        "# token에서 stopwords를 제외해 보아요.\n",
        "token = #?????#"
      ],
      "metadata": {
        "id": "Khr97HYEkNSf"
      },
      "execution_count": null,
      "outputs": []
    },
    {
      "cell_type": "code",
      "source": [
        "from collections import Counter\n",
        "\n",
        "word2count = Counter(token)\n",
        "# 단어와 각 단어를 헤아린 결과인 word2count에서 단어목록만 찾아보아요.\n",
        "bow = #?????#\n",
        "\n",
        "# 단어에 해당하는 수치를 활용하여 TFvector를 만들어 보아요.\n",
        "TFvector = #?????#"
      ],
      "metadata": {
        "id": "FiTZG2XMNZLL"
      },
      "execution_count": null,
      "outputs": []
    },
    {
      "cell_type": "code",
      "source": [
        "display(word2count)\n",
        "display(bow)\n",
        "display(TFvector)"
      ],
      "metadata": {
        "id": "pJY5xbmskcmQ"
      },
      "execution_count": null,
      "outputs": []
    },
    {
      "cell_type": "code",
      "source": [
        "# Colab 의 한글 폰트 설정\n",
        "import matplotlib.pyplot as plt\n",
        "plt.rc('font', family='NanumBarunGothic')"
      ],
      "metadata": {
        "id": "VvqZcWspX2kM"
      },
      "execution_count": null,
      "outputs": []
    },
    {
      "cell_type": "code",
      "source": [
        "## 워드 클라우드 생성을 위한 패키지\n",
        "from wordcloud import WordCloud\n",
        "\n",
        "wordCloud = WordCloud(font_path = \"NanumBarunGothic\", # 폰트 지정\n",
        "                      width = 400, # 워드 클라우드의 너비 지정\n",
        "                      height = 400, # 워드클라우드의 높이 지정\n",
        "                      max_font_size=100, # 가장 빈도수가 높은 단어의 폰트 사이즈 지정\n",
        "                      background_color = 'white' # 배경색 지정\n",
        "                      ).generate_from_frequencies(word2count)"
      ],
      "metadata": {
        "id": "5j1ika63X2sO"
      },
      "execution_count": null,
      "outputs": []
    },
    {
      "cell_type": "code",
      "source": [
        "plt.figure()\n",
        "plt.imshow(wordCloud)\n",
        "plt.axis('off')"
      ],
      "metadata": {
        "id": "J7N9H7aBX2xg"
      },
      "execution_count": null,
      "outputs": []
    },
    {
      "cell_type": "code",
      "source": [
        "autumn_morning ='''\n",
        "이른 아침 작은 새들 노랫소리 들려오면\n",
        "언제나 그랬듯 아쉽게 잠을 깬다\n",
        "창문 하나 햇살 가득 눈부시게 비쳐오고\n",
        "서늘한 냉기에 재채기할까 말까 (음)\n",
        "눈 비비며 빼꼼히 창밖을 내다보니\n",
        "삼삼오오 아이들은 재잘대며 학교 가고\n",
        "산책 갔다 오시는 아버지의 양손에는\n",
        "효과를 알 수 없는 약수가 하나 가득 (음)\n",
        "딸각딸각 아침 짓는 어머니의 분주함과\n",
        "엉금엉금 냉수 찾는 그 아들의 게으름이\n",
        "상큼하고 깨끗한 아침의 향기와\n",
        "구수하게 밥 뜸드는 냄새가 어우러진\n",
        "가을 아침 내겐 정말 커다란 기쁨이야\n",
        "가을 아침 내겐 정말 커다란 행복이야\n",
        "응석만 부렸던 내겐\n",
        "파란 하늘 바라보며 커다란 숨을 쉬니\n",
        "드높은 하늘처럼 내 마음 편해지네\n",
        "텅 빈 하늘 언제 왔나 고추잠자리 하나가\n",
        "잠 덜 깬 듯 엉성히 돌기만 비잉비잉 (음)\n",
        "토닥토닥 빨래하는 어머니의 분주함과\n",
        "동기동기 기타 치는 그 아들의 한가함이\n",
        "심심하면 쳐대는 괘종시계 종소리와\n",
        "시끄러운 조카들의 울음소리 어우러진\n",
        "가을 아침 내겐 정말 커다란 기쁨이야\n",
        "가을 아침 내겐 정말 커다란 행복이야\n",
        "응석만 부렸던 내겐\n",
        "가을 아침 내겐 정말 커다란 기쁨이야\n",
        "가을 아침 내겐 정말 커다란 행복이야\n",
        "뜬구름 쫓았던 내겐\n",
        "이른 아침 작은 새들 노랫소리 들려오면\n",
        "언제나 그랬듯 아쉽게 잠을 깬다\n",
        "창문 하나 햇살 가득 눈부시게 비쳐오고\n",
        "서늘한 냉기에 재채기할까 말까\n",
        "'''\n"
      ],
      "metadata": {
        "id": "qcVIQuA3X21Z"
      },
      "execution_count": null,
      "outputs": []
    },
    {
      "cell_type": "code",
      "source": [
        "# 2. 형태소 분석기\n",
        "okt = Okt()\n",
        "\n",
        "# 3. 토큰화 및 정제\n",
        "token = okt.morphs(autumn_morning)\n",
        "\n",
        "# (개선된 부분) 불용어 및 한 글자 단어(특수문자 등) 제거\n",
        "token = [word for word in token if word not in stopwords and len(word) > 1]\n",
        "\n",
        "# 4. 단어 빈도수 계산\n",
        "word2count = Counter(token)\n",
        "\n",
        "# 5. 워드 클라우드 생성\n",
        "wordCloud = WordCloud(\n",
        "    font_path = \"NanumBarunGothic\",  # 폰트 경로는 환경에 맞게 확인 필요\n",
        "    width = 400,\n",
        "    height = 400,\n",
        "    max_font_size=100,\n",
        "    background_color = 'white'\n",
        ").generate_from_frequencies(word2count)\n",
        "\n",
        "# 6. 워드 클라우드 시각화\n",
        "plt.figure()\n",
        "plt.imshow(wordCloud)\n",
        "plt.axis('off')\n",
        "plt.show()"
      ],
      "metadata": {
        "id": "UxHLiww6X28t"
      },
      "execution_count": null,
      "outputs": []
    },
    {
      "cell_type": "markdown",
      "source": [
        "#실습2. TF-IDF벡터 만들기"
      ],
      "metadata": {
        "id": "lXx9gakh6Ugw"
      }
    },
    {
      "cell_type": "code",
      "source": [
        "docs=['먹고 싶은 사과','먹고 싶은 바나나','길고 노란 바나나 바나나', '저는 과일이 좋아요']\n",
        "token = #?????#\n",
        "bow = #?????#\n",
        "bow.sort()"
      ],
      "metadata": {
        "id": "zqktD33XlRCs"
      },
      "execution_count": null,
      "outputs": []
    },
    {
      "cell_type": "code",
      "source": [
        "num_docs = len(docs)\n",
        "num_bow = len(bow)\n",
        "tf_data = np.zeros((num_docs, num_bow), dtype=int)\n",
        "for i in range(num_docs):\n",
        "    for j in range(num_bow):\n",
        "        #각 doc에 bow의 각 단어가 몇번 등장하는지 헤아립니다. (count)\n",
        "        tf_data[i, j] = #????#\n",
        "tf_dataFrame=pd.DataFrame(tf_data, columns = bow,index=docs)\n",
        "tf_dataFrame"
      ],
      "metadata": {
        "id": "yZZckRWSnv60"
      },
      "execution_count": null,
      "outputs": []
    },
    {
      "cell_type": "code",
      "source": [
        "from math import log # idf 계산을 위해\n",
        "# 각 단어가 doc별로 몇개의 문장에서 등장하는지 헤아려 봅니다.\n",
        "Df =  #?????#\n",
        "idf =  #?????#\n",
        "tfidf_data = tf_data*idf\n",
        "tfidf_dataFrame=pd.DataFrame(tfidf_data, columns = bow,index=docs)\n",
        "tfidf_dataFrame"
      ],
      "metadata": {
        "id": "gk1dJBqlxnaK"
      },
      "execution_count": null,
      "outputs": []
    },
    {
      "cell_type": "markdown",
      "source": [
        "# 실습3. TFIDF로 문장 Keyword 추출하기"
      ],
      "metadata": {
        "id": "mIDNggZI6bfN"
      }
    },
    {
      "cell_type": "code",
      "source": [
        "# 구글 Sheet에 데이터를 저장해 둡니다.\n",
        "sheet_id = '1RuhWLOqMpt48R14yG3rGTfX99Gw_S8mcBoK99aXdlBo'\n",
        "sheet_name = 'kdrama'  # 데이터가 저장된 시트 이름을 적어주세요.\n",
        "\n",
        "# SpreadSheet의 기본주소에 csv로 불러올 수 있도록 기본주소를 구성합니다.\n",
        "# Format형식으로 적용했어요.\n",
        "url = f'https://docs.google.com/spreadsheets/d/{sheet_id}/gviz/tq?tqx=out:csv&sheet={sheet_name}'\n",
        "\n",
        "# 필요한 열의 내용만 추출합니다.\n",
        "kdrama_df = pd.read_csv(url)[[\"Title\",\"Overview\"]]\n",
        "\n",
        "# 아래에 출력하여 확인합니다.\n",
        "display(kdrama_df.head())"
      ],
      "metadata": {
        "id": "x9dfTAM5d2hA"
      },
      "execution_count": null,
      "outputs": []
    },
    {
      "cell_type": "code",
      "source": [
        "docs = kdrama_df['Overview'].to_numpy()\n",
        "titles = kdrama_df['Title'].to_numpy()\n",
        "token = #스스로 작성해 보세요.#\n",
        "bow =  #스스로 작성해 보세요.#\n",
        "bow.sort()"
      ],
      "metadata": {
        "id": "upmtjUGZhT2B"
      },
      "execution_count": null,
      "outputs": []
    },
    {
      "cell_type": "code",
      "source": [
        "#TF 벡터를 만들고자합니다. 어떤 셀의 내용과 일치하나요?"
      ],
      "metadata": {
        "id": "7bwKqnknhvg1"
      },
      "execution_count": null,
      "outputs": []
    },
    {
      "cell_type": "code",
      "source": [
        "#TFIDF 벡터를 만들고자 합니다. 어떤 셀의 내용과 일치하나요?"
      ],
      "metadata": {
        "id": "8HOohNv9h9Gi"
      },
      "execution_count": null,
      "outputs": []
    },
    {
      "cell_type": "code",
      "source": [
        "#각 docs에서 가장 중요한 5개의 단어를 찾아볼게요.\n",
        "#tfidf 수치가 가장 높은 순으로 가지고 오면 될거 같아요. 축의 방향 axis 고려~\n",
        "main_word_5_index = #?????#\n",
        "main_word_5 = #?????#\n",
        "display(main_word_5)"
      ],
      "metadata": {
        "id": "-qcRgLaliJ1P"
      },
      "execution_count": null,
      "outputs": []
    },
    {
      "cell_type": "code",
      "source": [
        "kdrama_df['main_word_5']=pd.Series(main_word_5.tolist())\n",
        "kdrama_df"
      ],
      "metadata": {
        "id": "cpuRllCaiUu7"
      },
      "execution_count": null,
      "outputs": []
    },
    {
      "cell_type": "markdown",
      "source": [
        "#실습4. Cosine유사도 활용 유사Drama찾기"
      ],
      "metadata": {
        "id": "nDBCoZnbtPNn"
      }
    },
    {
      "cell_type": "code",
      "source": [
        "def norm(x):\n",
        "    x=np.array(x)\n",
        "    return #?????#\n",
        "\n",
        "def innerproduct(x,y):\n",
        "    x=np.array(x)\n",
        "    y=np.array(y)\n",
        "    return #?????#\n",
        "\n",
        "def cosine(x,y):\n",
        "    return #스스로 작성해 보세요#"
      ],
      "metadata": {
        "id": "HSLtE1Vzpcds"
      },
      "execution_count": null,
      "outputs": []
    },
    {
      "cell_type": "code",
      "source": [
        "cos_table = np.zeros((num_docs,num_docs), dtype=float)\n",
        "for i in range(num_docs):\n",
        "    for j in range(num_docs):\n",
        "        cos_table[i, j]= cosine(tfidf_data[i],tfidf_data[j])\n",
        "\n",
        "#max_cos_index1은 무엇을 의미할까요? max_cos_index2는 무엇을 의미할까요?\n",
        "max_cos_index1 = cos_table.argsort(axis=1)\n",
        "max_cos_index2 = cos_table.argsort(axis=1)[:,-2]\n",
        "max_cos_array = np.array(titles)[max_cos_index2]\n",
        "pd.DataFrame(max_cos_array,columns=['유사문서'], index=titles)"
      ],
      "metadata": {
        "id": "vhaHM-l_tWnI"
      },
      "execution_count": null,
      "outputs": []
    },
    {
      "cell_type": "markdown",
      "source": [
        "#실습5. (참고) 레벤슈타인 거리 활용\n",
        "---\n",
        "레벤슈타인 거리에 대한 원리를 웹검색과 AI도우미를 활용하여 이해해 보시고, 학생들에게 어떻게 지도하면 좋을 지 고민해 보세요.\n",
        "인공지능 수학의 각 단원은 계속 새로운 내용이 생성됩니다. 기초는 동일하지만.. 계속 함께 고민하고 새로운 방식을 학습하며 학생들과 함께 공부해가는 시간이 되면 어떨까 합니다."
      ],
      "metadata": {
        "id": "narmfE8nokKe"
      }
    },
    {
      "cell_type": "code",
      "source": [
        "def calc_distance(a, b):\n",
        "    ''' 레벤슈타인 거리 계산하기 '''\n",
        "    if a == b:\n",
        "        return 0 # 같으면 0을 반환\n",
        "    a_len = len(a); b_len = len(b)  # a 길이 ; # b 길이\n",
        "    if a == \"\":\n",
        "        return b_len\n",
        "    if b == \"\":\n",
        "        return a_len\n",
        "\n",
        "    # 2차원 표 (a_len+1, b_len+1) 준비하기 --- (※1)\n",
        "    matrix = [[] for i in range(a_len+1)]\n",
        "    for i in range(a_len+1): # 0으로 초기화\n",
        "        matrix[i] = [0 for j in range(b_len+1)]\n",
        "\n",
        "    # 0일 때 초깃값을 설정\n",
        "    for i in range(a_len+1):\n",
        "        matrix[i][0] = i\n",
        "    for j in range(b_len+1):\n",
        "        matrix[0][j] = j\n",
        "\n",
        "    # 표 채우기 --- (※2)\n",
        "    for i in range(1, a_len+1):\n",
        "        ac = a[i-1]\n",
        "        for j in range(1, b_len+1):\n",
        "            bc = b[j-1]\n",
        "            cost = 0 if (ac == bc) else 1\n",
        "            matrix[i][j] = min([\n",
        "                matrix[i-1][j] + 1,     # 문자 삽입\n",
        "                matrix[i][j-1] + 1,     # 문자 제거\n",
        "                matrix[i-1][j-1] + cost # 문자 변경\n",
        "            ])\n",
        "\n",
        "    return matrix[a_len][b_len]\n",
        "\n",
        "# \"가나다라\"와 \"가마바라\"의 거리 --- (※3)\n",
        "print(calc_distance(\"가나다라\",\"가하마라\"))"
      ],
      "metadata": {
        "id": "aagYUFS55e6H"
      },
      "execution_count": null,
      "outputs": []
    },
    {
      "cell_type": "code",
      "source": [
        "right_word = ['apple','computer','melon','book','water','campus','camp']\n",
        "input_word = 'comtpter'\n",
        "r = sorted(right_word, key= lambda n: calc_distance(input_word, n))\n",
        "\n",
        "# 가장 작은 거리를 가진 단어 출력\n",
        "print(\"가장 가까운 단어:\", r[0])\n"
      ],
      "metadata": {
        "id": "OQJdrcnq5fcC"
      },
      "execution_count": null,
      "outputs": []
    }
  ]
}